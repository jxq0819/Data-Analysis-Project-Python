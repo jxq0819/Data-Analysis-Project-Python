{
 "cells": [
  {
   "cell_type": "markdown",
   "metadata": {
    "dc": {
     "key": "5"
    },
    "deletable": false,
    "editable": false,
    "run_control": {
     "frozen": true
    },
    "tags": [
     "context"
    ]
   },
   "source": [
    "## 1. Scala's real-world project repository data\n",
    "<p>With almost 30k commits and a history spanning over ten years, Scala is a mature programming language. It is a general-purpose programming language that has recently become another prominent language for data scientists.</p>\n",
    "<p>Scala is also an open source project. Open source projects have the advantage that their entire development histories -- who made changes, what was changed, code reviews, etc. -- publicly available. </p>\n",
    "<p>We're going to read in, clean up, and visualize the real world project repository of Scala that spans data from a version control system (Git) as well as a project hosting site (GitHub). We will find out who has had the most influence on its development and who are the experts.</p>\n",
    "<p>The dataset we will use, which has been previously mined and extracted directly from GitHub, is comprised of two files:</p>\n",
    "<ol>\n",
    "<li><code>pulls.csv</code> contains the basic information about the pull requests.</li>\n",
    "<li><code>pull_files.csv</code> contains the files that were modified by each pull request.</li>\n",
    "</ol>"
   ]
  },
  {
   "cell_type": "code",
   "execution_count": 1,
   "metadata": {
    "dc": {
     "key": "5"
    },
    "tags": [
     "sample_code"
    ]
   },
   "outputs": [
    {
     "data": {
      "text/html": [
       "<div>\n",
       "<style scoped>\n",
       "    .dataframe tbody tr th:only-of-type {\n",
       "        vertical-align: middle;\n",
       "    }\n",
       "\n",
       "    .dataframe tbody tr th {\n",
       "        vertical-align: top;\n",
       "    }\n",
       "\n",
       "    .dataframe thead th {\n",
       "        text-align: right;\n",
       "    }\n",
       "</style>\n",
       "<table border=\"1\" class=\"dataframe\">\n",
       "  <thead>\n",
       "    <tr style=\"text-align: right;\">\n",
       "      <th></th>\n",
       "      <th>pid</th>\n",
       "      <th>file</th>\n",
       "    </tr>\n",
       "  </thead>\n",
       "  <tbody>\n",
       "    <tr>\n",
       "      <th>0</th>\n",
       "      <td>163314316</td>\n",
       "      <td>test/files/pos/t5638/Among.java</td>\n",
       "    </tr>\n",
       "    <tr>\n",
       "      <th>1</th>\n",
       "      <td>163314316</td>\n",
       "      <td>test/files/pos/t5638/Usage.scala</td>\n",
       "    </tr>\n",
       "    <tr>\n",
       "      <th>2</th>\n",
       "      <td>163314316</td>\n",
       "      <td>test/files/pos/t9291.scala</td>\n",
       "    </tr>\n",
       "    <tr>\n",
       "      <th>3</th>\n",
       "      <td>163314316</td>\n",
       "      <td>test/files/run/t8348.check</td>\n",
       "    </tr>\n",
       "    <tr>\n",
       "      <th>4</th>\n",
       "      <td>163314316</td>\n",
       "      <td>test/files/run/t8348/TableColumn.java</td>\n",
       "    </tr>\n",
       "    <tr>\n",
       "      <th>5</th>\n",
       "      <td>163314316</td>\n",
       "      <td>test/files/run/t8348/TableColumnImpl.java</td>\n",
       "    </tr>\n",
       "    <tr>\n",
       "      <th>6</th>\n",
       "      <td>163314316</td>\n",
       "      <td>test/files/run/t8348/Test.scala</td>\n",
       "    </tr>\n",
       "    <tr>\n",
       "      <th>7</th>\n",
       "      <td>163061502</td>\n",
       "      <td>src/library/scala/concurrent/Lock.scala</td>\n",
       "    </tr>\n",
       "    <tr>\n",
       "      <th>8</th>\n",
       "      <td>163057333</td>\n",
       "      <td>src/compiler/scala/tools/nsc/profile/AsyncHelp...</td>\n",
       "    </tr>\n",
       "    <tr>\n",
       "      <th>9</th>\n",
       "      <td>163057333</td>\n",
       "      <td>src/compiler/scala/tools/nsc/profile/Profiler....</td>\n",
       "    </tr>\n",
       "    <tr>\n",
       "      <th>10</th>\n",
       "      <td>162985594</td>\n",
       "      <td>src/compiler/scala/tools/nsc/backend/jvm/BCode...</td>\n",
       "    </tr>\n",
       "    <tr>\n",
       "      <th>11</th>\n",
       "      <td>162985594</td>\n",
       "      <td>src/compiler/scala/tools/nsc/symtab/classfile/...</td>\n",
       "    </tr>\n",
       "    <tr>\n",
       "      <th>12</th>\n",
       "      <td>162985594</td>\n",
       "      <td>src/reflect/scala/reflect/internal/pickling/By...</td>\n",
       "    </tr>\n",
       "    <tr>\n",
       "      <th>13</th>\n",
       "      <td>162838837</td>\n",
       "      <td>src/compiler/scala/reflect/reify/phases/Calcul...</td>\n",
       "    </tr>\n",
       "    <tr>\n",
       "      <th>14</th>\n",
       "      <td>162765232</td>\n",
       "      <td>src/library/scala/Predef.scala</td>\n",
       "    </tr>\n",
       "    <tr>\n",
       "      <th>15</th>\n",
       "      <td>162765232</td>\n",
       "      <td>test/files/neg/leibniz-liskov.check</td>\n",
       "    </tr>\n",
       "    <tr>\n",
       "      <th>16</th>\n",
       "      <td>162765232</td>\n",
       "      <td>test/files/neg/leibniz-liskov.scala</td>\n",
       "    </tr>\n",
       "    <tr>\n",
       "      <th>17</th>\n",
       "      <td>162765232</td>\n",
       "      <td>test/files/pos/leibniz-liskov.scala</td>\n",
       "    </tr>\n",
       "    <tr>\n",
       "      <th>18</th>\n",
       "      <td>162765232</td>\n",
       "      <td>test/files/pos/leibniz_liskov.scala</td>\n",
       "    </tr>\n",
       "    <tr>\n",
       "      <th>19</th>\n",
       "      <td>162643301</td>\n",
       "      <td>src/compiler/scala/tools/nsc/typechecker/Conte...</td>\n",
       "    </tr>\n",
       "    <tr>\n",
       "      <th>20</th>\n",
       "      <td>162643301</td>\n",
       "      <td>test/files/pos/parallel-classloader.scala</td>\n",
       "    </tr>\n",
       "    <tr>\n",
       "      <th>21</th>\n",
       "      <td>162643301</td>\n",
       "      <td>test/files/pos/t10568/Converter.java</td>\n",
       "    </tr>\n",
       "    <tr>\n",
       "      <th>22</th>\n",
       "      <td>162643301</td>\n",
       "      <td>test/files/pos/t10568/Impl.scala</td>\n",
       "    </tr>\n",
       "    <tr>\n",
       "      <th>23</th>\n",
       "      <td>162256029</td>\n",
       "      <td>src/compiler/scala/tools/nsc/backend/jvm/PostP...</td>\n",
       "    </tr>\n",
       "    <tr>\n",
       "      <th>24</th>\n",
       "      <td>162256029</td>\n",
       "      <td>src/compiler/scala/tools/nsc/backend/jvm/analy...</td>\n",
       "    </tr>\n",
       "    <tr>\n",
       "      <th>25</th>\n",
       "      <td>162197834</td>\n",
       "      <td>LICENSE</td>\n",
       "    </tr>\n",
       "    <tr>\n",
       "      <th>26</th>\n",
       "      <td>162197834</td>\n",
       "      <td>doc/LICENSE.md</td>\n",
       "    </tr>\n",
       "    <tr>\n",
       "      <th>27</th>\n",
       "      <td>162197834</td>\n",
       "      <td>doc/License.rtf</td>\n",
       "    </tr>\n",
       "    <tr>\n",
       "      <th>28</th>\n",
       "      <td>162197834</td>\n",
       "      <td>project/VersionUtil.scala</td>\n",
       "    </tr>\n",
       "    <tr>\n",
       "      <th>29</th>\n",
       "      <td>162197834</td>\n",
       "      <td>src/library/scala/util/Properties.scala</td>\n",
       "    </tr>\n",
       "    <tr>\n",
       "      <th>...</th>\n",
       "      <td>...</td>\n",
       "      <td>...</td>\n",
       "    </tr>\n",
       "    <tr>\n",
       "      <th>85558</th>\n",
       "      <td>551651</td>\n",
       "      <td>test/files/run/enums.scala</td>\n",
       "    </tr>\n",
       "    <tr>\n",
       "      <th>85559</th>\n",
       "      <td>551505</td>\n",
       "      <td>src/library/scala/Enumeration.scala</td>\n",
       "    </tr>\n",
       "    <tr>\n",
       "      <th>85560</th>\n",
       "      <td>551505</td>\n",
       "      <td>test/files/run/enums.check</td>\n",
       "    </tr>\n",
       "    <tr>\n",
       "      <th>85561</th>\n",
       "      <td>551505</td>\n",
       "      <td>test/files/run/enums.scala</td>\n",
       "    </tr>\n",
       "    <tr>\n",
       "      <th>85562</th>\n",
       "      <td>551474</td>\n",
       "      <td>src/library/scala/collection/BitSetLike.scala</td>\n",
       "    </tr>\n",
       "    <tr>\n",
       "      <th>85563</th>\n",
       "      <td>551375</td>\n",
       "      <td>src/compiler/scala/tools/nsc/doc/html/page/Tem...</td>\n",
       "    </tr>\n",
       "    <tr>\n",
       "      <th>85564</th>\n",
       "      <td>550508</td>\n",
       "      <td>test/files/neg/t3481.check</td>\n",
       "    </tr>\n",
       "    <tr>\n",
       "      <th>85565</th>\n",
       "      <td>550508</td>\n",
       "      <td>test/files/neg/t3481.scala</td>\n",
       "    </tr>\n",
       "    <tr>\n",
       "      <th>85566</th>\n",
       "      <td>548900</td>\n",
       "      <td>src/compiler/scala/tools/nsc/util/SourceFile.s...</td>\n",
       "    </tr>\n",
       "    <tr>\n",
       "      <th>85567</th>\n",
       "      <td>548838</td>\n",
       "      <td>test/disabled/scalacheck/redblack.scala</td>\n",
       "    </tr>\n",
       "    <tr>\n",
       "      <th>85568</th>\n",
       "      <td>548838</td>\n",
       "      <td>test/files/scalacheck/redblack.scala</td>\n",
       "    </tr>\n",
       "    <tr>\n",
       "      <th>85569</th>\n",
       "      <td>548744</td>\n",
       "      <td>src/library/scala/util/matching/Regex.scala</td>\n",
       "    </tr>\n",
       "    <tr>\n",
       "      <th>85570</th>\n",
       "      <td>548694</td>\n",
       "      <td>src/library/scala/sys/process/package.scala</td>\n",
       "    </tr>\n",
       "    <tr>\n",
       "      <th>85571</th>\n",
       "      <td>547941</td>\n",
       "      <td>src/compiler/scala/reflect/internal/Importers....</td>\n",
       "    </tr>\n",
       "    <tr>\n",
       "      <th>85572</th>\n",
       "      <td>547941</td>\n",
       "      <td>src/compiler/scala/reflect/internal/Types.scala</td>\n",
       "    </tr>\n",
       "    <tr>\n",
       "      <th>85573</th>\n",
       "      <td>547941</td>\n",
       "      <td>src/compiler/scala/tools/nsc/transform/LiftCod...</td>\n",
       "    </tr>\n",
       "    <tr>\n",
       "      <th>85574</th>\n",
       "      <td>547941</td>\n",
       "      <td>test/pending/run/t5230.scala</td>\n",
       "    </tr>\n",
       "    <tr>\n",
       "      <th>85575</th>\n",
       "      <td>547941</td>\n",
       "      <td>test/pending/run/t5230_nolift.scala</td>\n",
       "    </tr>\n",
       "    <tr>\n",
       "      <th>85576</th>\n",
       "      <td>547354</td>\n",
       "      <td>src/compiler/scala/tools/nsc/util/BitSet.scala</td>\n",
       "    </tr>\n",
       "    <tr>\n",
       "      <th>85577</th>\n",
       "      <td>547354</td>\n",
       "      <td>src/library/scala/collection/BitSet.scala</td>\n",
       "    </tr>\n",
       "    <tr>\n",
       "      <th>85578</th>\n",
       "      <td>547354</td>\n",
       "      <td>src/library/scala/collection/BitSetLike.scala</td>\n",
       "    </tr>\n",
       "    <tr>\n",
       "      <th>85579</th>\n",
       "      <td>547354</td>\n",
       "      <td>src/library/scala/collection/SortedSet.scala</td>\n",
       "    </tr>\n",
       "    <tr>\n",
       "      <th>85580</th>\n",
       "      <td>547354</td>\n",
       "      <td>src/library/scala/collection/immutable/BitSet....</td>\n",
       "    </tr>\n",
       "    <tr>\n",
       "      <th>85581</th>\n",
       "      <td>547354</td>\n",
       "      <td>src/library/scala/collection/immutable/SortedS...</td>\n",
       "    </tr>\n",
       "    <tr>\n",
       "      <th>85582</th>\n",
       "      <td>547354</td>\n",
       "      <td>src/library/scala/collection/mutable/BitSet.scala</td>\n",
       "    </tr>\n",
       "    <tr>\n",
       "      <th>85583</th>\n",
       "      <td>547354</td>\n",
       "      <td>test/files/run/bitsets.check</td>\n",
       "    </tr>\n",
       "    <tr>\n",
       "      <th>85584</th>\n",
       "      <td>547354</td>\n",
       "      <td>test/files/run/bitsets.scala</td>\n",
       "    </tr>\n",
       "    <tr>\n",
       "      <th>85585</th>\n",
       "      <td>547150</td>\n",
       "      <td>src/compiler/scala/tools/nsc/transform/LiftCod...</td>\n",
       "    </tr>\n",
       "    <tr>\n",
       "      <th>85586</th>\n",
       "      <td>547150</td>\n",
       "      <td>src/library/scala/reflect/api/Trees.scala</td>\n",
       "    </tr>\n",
       "    <tr>\n",
       "      <th>85587</th>\n",
       "      <td>547003</td>\n",
       "      <td>README.rst</td>\n",
       "    </tr>\n",
       "  </tbody>\n",
       "</table>\n",
       "<p>85588 rows × 2 columns</p>\n",
       "</div>"
      ],
      "text/plain": [
       "             pid                                               file\n",
       "0      163314316                    test/files/pos/t5638/Among.java\n",
       "1      163314316                   test/files/pos/t5638/Usage.scala\n",
       "2      163314316                         test/files/pos/t9291.scala\n",
       "3      163314316                         test/files/run/t8348.check\n",
       "4      163314316              test/files/run/t8348/TableColumn.java\n",
       "5      163314316          test/files/run/t8348/TableColumnImpl.java\n",
       "6      163314316                    test/files/run/t8348/Test.scala\n",
       "7      163061502            src/library/scala/concurrent/Lock.scala\n",
       "8      163057333  src/compiler/scala/tools/nsc/profile/AsyncHelp...\n",
       "9      163057333  src/compiler/scala/tools/nsc/profile/Profiler....\n",
       "10     162985594  src/compiler/scala/tools/nsc/backend/jvm/BCode...\n",
       "11     162985594  src/compiler/scala/tools/nsc/symtab/classfile/...\n",
       "12     162985594  src/reflect/scala/reflect/internal/pickling/By...\n",
       "13     162838837  src/compiler/scala/reflect/reify/phases/Calcul...\n",
       "14     162765232                     src/library/scala/Predef.scala\n",
       "15     162765232                test/files/neg/leibniz-liskov.check\n",
       "16     162765232                test/files/neg/leibniz-liskov.scala\n",
       "17     162765232                test/files/pos/leibniz-liskov.scala\n",
       "18     162765232                test/files/pos/leibniz_liskov.scala\n",
       "19     162643301  src/compiler/scala/tools/nsc/typechecker/Conte...\n",
       "20     162643301          test/files/pos/parallel-classloader.scala\n",
       "21     162643301               test/files/pos/t10568/Converter.java\n",
       "22     162643301                   test/files/pos/t10568/Impl.scala\n",
       "23     162256029  src/compiler/scala/tools/nsc/backend/jvm/PostP...\n",
       "24     162256029  src/compiler/scala/tools/nsc/backend/jvm/analy...\n",
       "25     162197834                                            LICENSE\n",
       "26     162197834                                     doc/LICENSE.md\n",
       "27     162197834                                    doc/License.rtf\n",
       "28     162197834                          project/VersionUtil.scala\n",
       "29     162197834            src/library/scala/util/Properties.scala\n",
       "...          ...                                                ...\n",
       "85558     551651                         test/files/run/enums.scala\n",
       "85559     551505                src/library/scala/Enumeration.scala\n",
       "85560     551505                         test/files/run/enums.check\n",
       "85561     551505                         test/files/run/enums.scala\n",
       "85562     551474      src/library/scala/collection/BitSetLike.scala\n",
       "85563     551375  src/compiler/scala/tools/nsc/doc/html/page/Tem...\n",
       "85564     550508                         test/files/neg/t3481.check\n",
       "85565     550508                         test/files/neg/t3481.scala\n",
       "85566     548900  src/compiler/scala/tools/nsc/util/SourceFile.s...\n",
       "85567     548838            test/disabled/scalacheck/redblack.scala\n",
       "85568     548838               test/files/scalacheck/redblack.scala\n",
       "85569     548744        src/library/scala/util/matching/Regex.scala\n",
       "85570     548694        src/library/scala/sys/process/package.scala\n",
       "85571     547941  src/compiler/scala/reflect/internal/Importers....\n",
       "85572     547941    src/compiler/scala/reflect/internal/Types.scala\n",
       "85573     547941  src/compiler/scala/tools/nsc/transform/LiftCod...\n",
       "85574     547941                       test/pending/run/t5230.scala\n",
       "85575     547941                test/pending/run/t5230_nolift.scala\n",
       "85576     547354     src/compiler/scala/tools/nsc/util/BitSet.scala\n",
       "85577     547354          src/library/scala/collection/BitSet.scala\n",
       "85578     547354      src/library/scala/collection/BitSetLike.scala\n",
       "85579     547354       src/library/scala/collection/SortedSet.scala\n",
       "85580     547354  src/library/scala/collection/immutable/BitSet....\n",
       "85581     547354  src/library/scala/collection/immutable/SortedS...\n",
       "85582     547354  src/library/scala/collection/mutable/BitSet.scala\n",
       "85583     547354                       test/files/run/bitsets.check\n",
       "85584     547354                       test/files/run/bitsets.scala\n",
       "85585     547150  src/compiler/scala/tools/nsc/transform/LiftCod...\n",
       "85586     547150          src/library/scala/reflect/api/Trees.scala\n",
       "85587     547003                                         README.rst\n",
       "\n",
       "[85588 rows x 2 columns]"
      ]
     },
     "execution_count": 1,
     "metadata": {},
     "output_type": "execute_result"
    }
   ],
   "source": [
    "# Importing pandas\n",
    "import pandas as pd\n",
    "\n",
    "# Loading in the data\n",
    "pulls = pd.read_csv('datasets/pulls.csv')\n",
    "pull_files = pd.read_csv('datasets/pull_files.csv')\n",
    "pull_files"
   ]
  },
  {
   "cell_type": "markdown",
   "metadata": {
    "dc": {
     "key": "12"
    },
    "deletable": false,
    "editable": false,
    "run_control": {
     "frozen": true
    },
    "tags": [
     "context"
    ]
   },
   "source": [
    "## 2. Cleaning the data\n",
    "<p>The raw data extracted from GitHub contains dates in the ISO8601 format. However, <code>pandas</code> imports them as regular strings. To make our analysis easier, we need to convert the strings into Python's <code>DateTime</code> objects. <code>DateTime</code> objects have the important property that they can be compared and sorted.</p>\n",
    "<p>The pull request times are all in UTC (also known as Coordinated Universal Time). The commit times, however, are in the local time of the author with time zone information (number of hours difference from UTC). To make comparisons easy, we should convert all times to UTC.</p>"
   ]
  },
  {
   "cell_type": "code",
   "execution_count": 2,
   "metadata": {
    "dc": {
     "key": "12"
    },
    "tags": [
     "sample_code"
    ]
   },
   "outputs": [
    {
     "data": {
      "text/html": [
       "<div>\n",
       "<style scoped>\n",
       "    .dataframe tbody tr th:only-of-type {\n",
       "        vertical-align: middle;\n",
       "    }\n",
       "\n",
       "    .dataframe tbody tr th {\n",
       "        vertical-align: top;\n",
       "    }\n",
       "\n",
       "    .dataframe thead th {\n",
       "        text-align: right;\n",
       "    }\n",
       "</style>\n",
       "<table border=\"1\" class=\"dataframe\">\n",
       "  <thead>\n",
       "    <tr style=\"text-align: right;\">\n",
       "      <th></th>\n",
       "      <th>pid</th>\n",
       "      <th>user</th>\n",
       "      <th>date</th>\n",
       "    </tr>\n",
       "  </thead>\n",
       "  <tbody>\n",
       "    <tr>\n",
       "      <th>0</th>\n",
       "      <td>163314316</td>\n",
       "      <td>hrhino</td>\n",
       "      <td>2018-01-16 23:29:16+00:00</td>\n",
       "    </tr>\n",
       "    <tr>\n",
       "      <th>1</th>\n",
       "      <td>163061502</td>\n",
       "      <td>joroKr21</td>\n",
       "      <td>2018-01-15 23:44:52+00:00</td>\n",
       "    </tr>\n",
       "    <tr>\n",
       "      <th>2</th>\n",
       "      <td>163057333</td>\n",
       "      <td>mkeskells</td>\n",
       "      <td>2018-01-15 23:05:06+00:00</td>\n",
       "    </tr>\n",
       "    <tr>\n",
       "      <th>3</th>\n",
       "      <td>162985594</td>\n",
       "      <td>lrytz</td>\n",
       "      <td>2018-01-15 15:52:39+00:00</td>\n",
       "    </tr>\n",
       "    <tr>\n",
       "      <th>4</th>\n",
       "      <td>162838837</td>\n",
       "      <td>zuvizudar</td>\n",
       "      <td>2018-01-14 19:16:16+00:00</td>\n",
       "    </tr>\n",
       "    <tr>\n",
       "      <th>5</th>\n",
       "      <td>162765232</td>\n",
       "      <td>howtonotwin</td>\n",
       "      <td>2018-01-13 04:37:17+00:00</td>\n",
       "    </tr>\n",
       "    <tr>\n",
       "      <th>6</th>\n",
       "      <td>162643301</td>\n",
       "      <td>hrhino</td>\n",
       "      <td>2018-01-12 14:29:49+00:00</td>\n",
       "    </tr>\n",
       "    <tr>\n",
       "      <th>7</th>\n",
       "      <td>162256029</td>\n",
       "      <td>mkeskells</td>\n",
       "      <td>2018-01-10 23:20:03+00:00</td>\n",
       "    </tr>\n",
       "    <tr>\n",
       "      <th>8</th>\n",
       "      <td>162197834</td>\n",
       "      <td>SethTisue</td>\n",
       "      <td>2018-01-10 18:31:25+00:00</td>\n",
       "    </tr>\n",
       "    <tr>\n",
       "      <th>9</th>\n",
       "      <td>162011899</td>\n",
       "      <td>joroKr21</td>\n",
       "      <td>2018-01-10 00:45:57+00:00</td>\n",
       "    </tr>\n",
       "    <tr>\n",
       "      <th>10</th>\n",
       "      <td>162009313</td>\n",
       "      <td>SethTisue</td>\n",
       "      <td>2018-01-10 00:23:34+00:00</td>\n",
       "    </tr>\n",
       "    <tr>\n",
       "      <th>11</th>\n",
       "      <td>162003773</td>\n",
       "      <td>SethTisue</td>\n",
       "      <td>2018-01-09 23:40:55+00:00</td>\n",
       "    </tr>\n",
       "    <tr>\n",
       "      <th>12</th>\n",
       "      <td>161996531</td>\n",
       "      <td>hrhino</td>\n",
       "      <td>2018-01-09 22:54:03+00:00</td>\n",
       "    </tr>\n",
       "    <tr>\n",
       "      <th>13</th>\n",
       "      <td>161993479</td>\n",
       "      <td>SethTisue</td>\n",
       "      <td>2018-01-09 22:36:47+00:00</td>\n",
       "    </tr>\n",
       "    <tr>\n",
       "      <th>14</th>\n",
       "      <td>161752108</td>\n",
       "      <td>hrhino</td>\n",
       "      <td>2018-01-08 23:32:26+00:00</td>\n",
       "    </tr>\n",
       "    <tr>\n",
       "      <th>15</th>\n",
       "      <td>161750322</td>\n",
       "      <td>som-snytt</td>\n",
       "      <td>2018-01-08 23:20:00+00:00</td>\n",
       "    </tr>\n",
       "    <tr>\n",
       "      <th>16</th>\n",
       "      <td>161545073</td>\n",
       "      <td>svatsan</td>\n",
       "      <td>2018-01-07 23:45:21+00:00</td>\n",
       "    </tr>\n",
       "    <tr>\n",
       "      <th>17</th>\n",
       "      <td>161491269</td>\n",
       "      <td>howtonotwin</td>\n",
       "      <td>2018-01-06 18:52:25+00:00</td>\n",
       "    </tr>\n",
       "    <tr>\n",
       "      <th>18</th>\n",
       "      <td>161406633</td>\n",
       "      <td>ashawley</td>\n",
       "      <td>2018-01-05 19:09:13+00:00</td>\n",
       "    </tr>\n",
       "    <tr>\n",
       "      <th>19</th>\n",
       "      <td>161236235</td>\n",
       "      <td>som-snytt</td>\n",
       "      <td>2018-01-04 22:56:41+00:00</td>\n",
       "    </tr>\n",
       "    <tr>\n",
       "      <th>20</th>\n",
       "      <td>161046157</td>\n",
       "      <td>howtonotwin</td>\n",
       "      <td>2018-01-04 03:28:54+00:00</td>\n",
       "    </tr>\n",
       "    <tr>\n",
       "      <th>21</th>\n",
       "      <td>160969081</td>\n",
       "      <td>naferx</td>\n",
       "      <td>2018-01-03 18:13:06+00:00</td>\n",
       "    </tr>\n",
       "    <tr>\n",
       "      <th>22</th>\n",
       "      <td>160659200</td>\n",
       "      <td>rcoh</td>\n",
       "      <td>2018-01-01 20:18:47+00:00</td>\n",
       "    </tr>\n",
       "    <tr>\n",
       "      <th>23</th>\n",
       "      <td>160628967</td>\n",
       "      <td>som-snytt</td>\n",
       "      <td>2017-12-31 19:46:37+00:00</td>\n",
       "    </tr>\n",
       "    <tr>\n",
       "      <th>24</th>\n",
       "      <td>160607241</td>\n",
       "      <td>hrhino</td>\n",
       "      <td>2017-12-31 02:03:53+00:00</td>\n",
       "    </tr>\n",
       "    <tr>\n",
       "      <th>25</th>\n",
       "      <td>160486436</td>\n",
       "      <td>som-snytt</td>\n",
       "      <td>2017-12-29 08:19:09+00:00</td>\n",
       "    </tr>\n",
       "    <tr>\n",
       "      <th>26</th>\n",
       "      <td>160465311</td>\n",
       "      <td>som-snytt</td>\n",
       "      <td>2017-12-29 02:24:06+00:00</td>\n",
       "    </tr>\n",
       "    <tr>\n",
       "      <th>27</th>\n",
       "      <td>160325010</td>\n",
       "      <td>ashawley</td>\n",
       "      <td>2017-12-28 02:24:52+00:00</td>\n",
       "    </tr>\n",
       "    <tr>\n",
       "      <th>28</th>\n",
       "      <td>159955300</td>\n",
       "      <td>som-snytt</td>\n",
       "      <td>2017-12-23 03:38:45+00:00</td>\n",
       "    </tr>\n",
       "    <tr>\n",
       "      <th>29</th>\n",
       "      <td>159882248</td>\n",
       "      <td>jbrower2</td>\n",
       "      <td>2017-12-22 14:57:13+00:00</td>\n",
       "    </tr>\n",
       "    <tr>\n",
       "      <th>...</th>\n",
       "      <td>...</td>\n",
       "      <td>...</td>\n",
       "      <td>...</td>\n",
       "    </tr>\n",
       "    <tr>\n",
       "      <th>6170</th>\n",
       "      <td>559172</td>\n",
       "      <td>joshmarcus</td>\n",
       "      <td>2011-12-05 17:21:01+00:00</td>\n",
       "    </tr>\n",
       "    <tr>\n",
       "      <th>6171</th>\n",
       "      <td>558806</td>\n",
       "      <td>xeno-by</td>\n",
       "      <td>2011-12-05 16:01:55+00:00</td>\n",
       "    </tr>\n",
       "    <tr>\n",
       "      <th>6172</th>\n",
       "      <td>558095</td>\n",
       "      <td>xeno-by</td>\n",
       "      <td>2011-12-05 12:22:57+00:00</td>\n",
       "    </tr>\n",
       "    <tr>\n",
       "      <th>6173</th>\n",
       "      <td>557970</td>\n",
       "      <td>szeiger</td>\n",
       "      <td>2011-12-05 11:37:07+00:00</td>\n",
       "    </tr>\n",
       "    <tr>\n",
       "      <th>6174</th>\n",
       "      <td>557967</td>\n",
       "      <td>szeiger</td>\n",
       "      <td>2011-12-05 11:36:27+00:00</td>\n",
       "    </tr>\n",
       "    <tr>\n",
       "      <th>6175</th>\n",
       "      <td>556811</td>\n",
       "      <td>xeno-by</td>\n",
       "      <td>2011-12-04 23:06:49+00:00</td>\n",
       "    </tr>\n",
       "    <tr>\n",
       "      <th>6176</th>\n",
       "      <td>556556</td>\n",
       "      <td>xeno-by</td>\n",
       "      <td>2011-12-04 20:15:49+00:00</td>\n",
       "    </tr>\n",
       "    <tr>\n",
       "      <th>6177</th>\n",
       "      <td>554542</td>\n",
       "      <td>ijuma</td>\n",
       "      <td>2011-12-03 02:19:13+00:00</td>\n",
       "    </tr>\n",
       "    <tr>\n",
       "      <th>6178</th>\n",
       "      <td>553456</td>\n",
       "      <td>dcsobral</td>\n",
       "      <td>2011-12-02 20:48:20+00:00</td>\n",
       "    </tr>\n",
       "    <tr>\n",
       "      <th>6179</th>\n",
       "      <td>553265</td>\n",
       "      <td>dcsobral</td>\n",
       "      <td>2011-12-02 19:59:57+00:00</td>\n",
       "    </tr>\n",
       "    <tr>\n",
       "      <th>6180</th>\n",
       "      <td>553095</td>\n",
       "      <td>dcsobral</td>\n",
       "      <td>2011-12-02 19:17:44+00:00</td>\n",
       "    </tr>\n",
       "    <tr>\n",
       "      <th>6181</th>\n",
       "      <td>552535</td>\n",
       "      <td>soc</td>\n",
       "      <td>2011-12-02 17:04:45+00:00</td>\n",
       "    </tr>\n",
       "    <tr>\n",
       "      <th>6182</th>\n",
       "      <td>552482</td>\n",
       "      <td>soc</td>\n",
       "      <td>2011-12-02 16:52:08+00:00</td>\n",
       "    </tr>\n",
       "    <tr>\n",
       "      <th>6183</th>\n",
       "      <td>552481</td>\n",
       "      <td>soc</td>\n",
       "      <td>2011-12-02 16:51:36+00:00</td>\n",
       "    </tr>\n",
       "    <tr>\n",
       "      <th>6184</th>\n",
       "      <td>551968</td>\n",
       "      <td>soc</td>\n",
       "      <td>2011-12-02 14:46:17+00:00</td>\n",
       "    </tr>\n",
       "    <tr>\n",
       "      <th>6185</th>\n",
       "      <td>551904</td>\n",
       "      <td>jsuereth</td>\n",
       "      <td>2011-12-02 14:27:41+00:00</td>\n",
       "    </tr>\n",
       "    <tr>\n",
       "      <th>6186</th>\n",
       "      <td>551651</td>\n",
       "      <td>szeiger</td>\n",
       "      <td>2011-12-02 13:02:29+00:00</td>\n",
       "    </tr>\n",
       "    <tr>\n",
       "      <th>6187</th>\n",
       "      <td>551505</td>\n",
       "      <td>szeiger</td>\n",
       "      <td>2011-12-02 12:04:52+00:00</td>\n",
       "    </tr>\n",
       "    <tr>\n",
       "      <th>6188</th>\n",
       "      <td>551474</td>\n",
       "      <td>szeiger</td>\n",
       "      <td>2011-12-02 11:46:43+00:00</td>\n",
       "    </tr>\n",
       "    <tr>\n",
       "      <th>6189</th>\n",
       "      <td>551375</td>\n",
       "      <td>soc</td>\n",
       "      <td>2011-12-02 11:02:49+00:00</td>\n",
       "    </tr>\n",
       "    <tr>\n",
       "      <th>6190</th>\n",
       "      <td>550508</td>\n",
       "      <td>soc</td>\n",
       "      <td>2011-12-02 02:53:07+00:00</td>\n",
       "    </tr>\n",
       "    <tr>\n",
       "      <th>6191</th>\n",
       "      <td>548900</td>\n",
       "      <td>dcsobral</td>\n",
       "      <td>2011-12-01 19:46:20+00:00</td>\n",
       "    </tr>\n",
       "    <tr>\n",
       "      <th>6192</th>\n",
       "      <td>548838</td>\n",
       "      <td>dcsobral</td>\n",
       "      <td>2011-12-01 19:35:53+00:00</td>\n",
       "    </tr>\n",
       "    <tr>\n",
       "      <th>6193</th>\n",
       "      <td>548744</td>\n",
       "      <td>dcsobral</td>\n",
       "      <td>2011-12-01 19:15:58+00:00</td>\n",
       "    </tr>\n",
       "    <tr>\n",
       "      <th>6194</th>\n",
       "      <td>548694</td>\n",
       "      <td>dcsobral</td>\n",
       "      <td>2011-12-01 19:00:36+00:00</td>\n",
       "    </tr>\n",
       "    <tr>\n",
       "      <th>6195</th>\n",
       "      <td>547941</td>\n",
       "      <td>xeno-by</td>\n",
       "      <td>2011-12-01 16:16:42+00:00</td>\n",
       "    </tr>\n",
       "    <tr>\n",
       "      <th>6196</th>\n",
       "      <td>547354</td>\n",
       "      <td>szeiger</td>\n",
       "      <td>2011-12-01 14:03:23+00:00</td>\n",
       "    </tr>\n",
       "    <tr>\n",
       "      <th>6197</th>\n",
       "      <td>547150</td>\n",
       "      <td>odersky</td>\n",
       "      <td>2011-12-01 12:39:40+00:00</td>\n",
       "    </tr>\n",
       "    <tr>\n",
       "      <th>6198</th>\n",
       "      <td>547003</td>\n",
       "      <td>robinst</td>\n",
       "      <td>2011-12-01 11:42:26+00:00</td>\n",
       "    </tr>\n",
       "    <tr>\n",
       "      <th>6199</th>\n",
       "      <td>546847</td>\n",
       "      <td>odersky</td>\n",
       "      <td>2011-12-01 10:41:01+00:00</td>\n",
       "    </tr>\n",
       "  </tbody>\n",
       "</table>\n",
       "<p>6200 rows × 3 columns</p>\n",
       "</div>"
      ],
      "text/plain": [
       "            pid         user                      date\n",
       "0     163314316       hrhino 2018-01-16 23:29:16+00:00\n",
       "1     163061502     joroKr21 2018-01-15 23:44:52+00:00\n",
       "2     163057333    mkeskells 2018-01-15 23:05:06+00:00\n",
       "3     162985594        lrytz 2018-01-15 15:52:39+00:00\n",
       "4     162838837    zuvizudar 2018-01-14 19:16:16+00:00\n",
       "5     162765232  howtonotwin 2018-01-13 04:37:17+00:00\n",
       "6     162643301       hrhino 2018-01-12 14:29:49+00:00\n",
       "7     162256029    mkeskells 2018-01-10 23:20:03+00:00\n",
       "8     162197834    SethTisue 2018-01-10 18:31:25+00:00\n",
       "9     162011899     joroKr21 2018-01-10 00:45:57+00:00\n",
       "10    162009313    SethTisue 2018-01-10 00:23:34+00:00\n",
       "11    162003773    SethTisue 2018-01-09 23:40:55+00:00\n",
       "12    161996531       hrhino 2018-01-09 22:54:03+00:00\n",
       "13    161993479    SethTisue 2018-01-09 22:36:47+00:00\n",
       "14    161752108       hrhino 2018-01-08 23:32:26+00:00\n",
       "15    161750322    som-snytt 2018-01-08 23:20:00+00:00\n",
       "16    161545073      svatsan 2018-01-07 23:45:21+00:00\n",
       "17    161491269  howtonotwin 2018-01-06 18:52:25+00:00\n",
       "18    161406633     ashawley 2018-01-05 19:09:13+00:00\n",
       "19    161236235    som-snytt 2018-01-04 22:56:41+00:00\n",
       "20    161046157  howtonotwin 2018-01-04 03:28:54+00:00\n",
       "21    160969081       naferx 2018-01-03 18:13:06+00:00\n",
       "22    160659200         rcoh 2018-01-01 20:18:47+00:00\n",
       "23    160628967    som-snytt 2017-12-31 19:46:37+00:00\n",
       "24    160607241       hrhino 2017-12-31 02:03:53+00:00\n",
       "25    160486436    som-snytt 2017-12-29 08:19:09+00:00\n",
       "26    160465311    som-snytt 2017-12-29 02:24:06+00:00\n",
       "27    160325010     ashawley 2017-12-28 02:24:52+00:00\n",
       "28    159955300    som-snytt 2017-12-23 03:38:45+00:00\n",
       "29    159882248     jbrower2 2017-12-22 14:57:13+00:00\n",
       "...         ...          ...                       ...\n",
       "6170     559172   joshmarcus 2011-12-05 17:21:01+00:00\n",
       "6171     558806      xeno-by 2011-12-05 16:01:55+00:00\n",
       "6172     558095      xeno-by 2011-12-05 12:22:57+00:00\n",
       "6173     557970      szeiger 2011-12-05 11:37:07+00:00\n",
       "6174     557967      szeiger 2011-12-05 11:36:27+00:00\n",
       "6175     556811      xeno-by 2011-12-04 23:06:49+00:00\n",
       "6176     556556      xeno-by 2011-12-04 20:15:49+00:00\n",
       "6177     554542        ijuma 2011-12-03 02:19:13+00:00\n",
       "6178     553456     dcsobral 2011-12-02 20:48:20+00:00\n",
       "6179     553265     dcsobral 2011-12-02 19:59:57+00:00\n",
       "6180     553095     dcsobral 2011-12-02 19:17:44+00:00\n",
       "6181     552535          soc 2011-12-02 17:04:45+00:00\n",
       "6182     552482          soc 2011-12-02 16:52:08+00:00\n",
       "6183     552481          soc 2011-12-02 16:51:36+00:00\n",
       "6184     551968          soc 2011-12-02 14:46:17+00:00\n",
       "6185     551904     jsuereth 2011-12-02 14:27:41+00:00\n",
       "6186     551651      szeiger 2011-12-02 13:02:29+00:00\n",
       "6187     551505      szeiger 2011-12-02 12:04:52+00:00\n",
       "6188     551474      szeiger 2011-12-02 11:46:43+00:00\n",
       "6189     551375          soc 2011-12-02 11:02:49+00:00\n",
       "6190     550508          soc 2011-12-02 02:53:07+00:00\n",
       "6191     548900     dcsobral 2011-12-01 19:46:20+00:00\n",
       "6192     548838     dcsobral 2011-12-01 19:35:53+00:00\n",
       "6193     548744     dcsobral 2011-12-01 19:15:58+00:00\n",
       "6194     548694     dcsobral 2011-12-01 19:00:36+00:00\n",
       "6195     547941      xeno-by 2011-12-01 16:16:42+00:00\n",
       "6196     547354      szeiger 2011-12-01 14:03:23+00:00\n",
       "6197     547150      odersky 2011-12-01 12:39:40+00:00\n",
       "6198     547003      robinst 2011-12-01 11:42:26+00:00\n",
       "6199     546847      odersky 2011-12-01 10:41:01+00:00\n",
       "\n",
       "[6200 rows x 3 columns]"
      ]
     },
     "execution_count": 2,
     "metadata": {},
     "output_type": "execute_result"
    }
   ],
   "source": [
    "# Convert the date for the pulls object\n",
    "pulls['date'] = pd.to_datetime(pulls['date'], utc=True)\n",
    "pulls"
   ]
  },
  {
   "cell_type": "markdown",
   "metadata": {
    "dc": {
     "key": "19"
    },
    "deletable": false,
    "editable": false,
    "run_control": {
     "frozen": true
    },
    "tags": [
     "context"
    ]
   },
   "source": [
    "## 3. Merging the DataFrames\n",
    "<p>The data extracted comes in two separate files. Merging the two DataFrames will make it easier for us to analyze the data in the future tasks.</p>"
   ]
  },
  {
   "cell_type": "code",
   "execution_count": 3,
   "metadata": {
    "dc": {
     "key": "19"
    },
    "tags": [
     "sample_code"
    ]
   },
   "outputs": [],
   "source": [
    "# Merge the two DataFrames\n",
    "data = pulls.merge(pull_files, on='pid')"
   ]
  },
  {
   "cell_type": "markdown",
   "metadata": {
    "dc": {
     "key": "26"
    },
    "deletable": false,
    "editable": false,
    "run_control": {
     "frozen": true
    },
    "tags": [
     "context"
    ]
   },
   "source": [
    "## 4. Is the project still actively maintained?\n",
    "<p>The activity in an open source project is not very consistent. Some projects might be active for many years after the initial release, while others can slowly taper out into oblivion. Before committing to contributing to a project, it is important to understand the state of the project. Is development going steadily, or is there a drop? Has the project been abandoned altogether?</p>\n",
    "<p>The data used in this project was collected in January of 2018. We are interested in the evolution of the number of contributions up to that date.</p>\n",
    "<p>For Scala, we will do this by plotting a chart of the project's activity. We will calculate the number of pull requests submitted each (calendar) month during the project's lifetime. We will then plot these numbers to see the trend of contributions.</p>"
   ]
  },
  {
   "cell_type": "code",
   "execution_count": 4,
   "metadata": {
    "dc": {
     "key": "26"
    },
    "tags": [
     "sample_code"
    ]
   },
   "outputs": [
    {
     "data": {
      "text/plain": [
       "<matplotlib.axes._subplots.AxesSubplot at 0x26b9a985860>"
      ]
     },
     "execution_count": 4,
     "metadata": {},
     "output_type": "execute_result"
    },
    {
     "data": {
      "image/png": "[encoded data removed]",
      "text/plain": [
       "<Figure size 432x288 with 1 Axes>"
      ]
     },
     "metadata": {
      "needs_background": "light"
     },
     "output_type": "display_data"
    }
   ],
   "source": [
    "%matplotlib inline\n",
    "\n",
    "# Create a column that will store the month and the year, as a string\n",
    "pulls['month_year'] = pulls.apply(lambda x: str(x['date'].year) + '-' + str(x['date'].month), axis = 1)\n",
    "# Group by month_year and count the pull requests\n",
    "counts = pulls.groupby('month_year').aggregate('count')\n",
    "\n",
    "# Plot the results\n",
    "counts.plot.bar()"
   ]
  },
  {
   "cell_type": "markdown",
   "metadata": {
    "dc": {
     "key": "33"
    },
    "deletable": false,
    "editable": false,
    "run_control": {
     "frozen": true
    },
    "tags": [
     "context"
    ]
   },
   "source": [
    "## 5. Is there camaraderie in the project?\n",
    "<p>The organizational structure varies from one project to another, and it can influence your success as a contributor. A project that has a very small community might not be the best one to start working on. The small community might indicate a high barrier of entry. This can be caused by several factors, including a community that is reluctant to accept pull requests from \"outsiders,\" that the code base is hard to work with, etc. However, a large community can serve as an indicator that the project is regularly accepting pull requests from new contributors. Such a project would be a good place to start.</p>\n",
    "<p>In order to evaluate the dynamics of the community, we will plot a histogram of the number of pull requests submitted by each user. A distribution that shows that there are few people that only contribute a small number of pull requests can be used as in indicator that the project is not welcoming of new contributors. </p>"
   ]
  },
  {
   "cell_type": "code",
   "execution_count": 5,
   "metadata": {
    "dc": {
     "key": "33"
    },
    "tags": [
     "sample_code"
    ]
   },
   "outputs": [
    {
     "data": {
      "text/plain": [
       "<matplotlib.axes._subplots.AxesSubplot at 0x26b9bbaafd0>"
      ]
     },
     "execution_count": 5,
     "metadata": {},
     "output_type": "execute_result"
    },
    {
     "data": {
      "image/png": "[encoded data removed]",
      "text/plain": [
       "<Figure size 432x288 with 1 Axes>"
      ]
     },
     "metadata": {
      "needs_background": "light"
     },
     "output_type": "display_data"
    }
   ],
   "source": [
    "# Required for matplotlib\n",
    "%matplotlib inline\n",
    "\n",
    "# Group by the submitter\n",
    "by_user = pulls.groupby('user').count()\n",
    "\n",
    "# Plot the histogram\n",
    "by_user.plot.hist()"
   ]
  },
  {
   "cell_type": "markdown",
   "metadata": {
    "dc": {
     "key": "40"
    },
    "deletable": false,
    "editable": false,
    "run_control": {
     "frozen": true
    },
    "tags": [
     "context"
    ]
   },
   "source": [
    "## 6. What files were changed in the last ten pull requests?\n",
    "<p>Choosing the right place to make a contribution is as important as choosing the project to contribute to. Some parts of the code might be stable, some might be dead. Contributing there might not have the most impact. Therefore it is important to understand the parts of the system that have been recently changed. This allows us to pinpoint the \"hot\" areas of the code where most of the activity is happening. Focusing on those parts might not the most effective use of our times.</p>"
   ]
  },
  {
   "cell_type": "code",
   "execution_count": 6,
   "metadata": {
    "dc": {
     "key": "40"
    },
    "tags": [
     "sample_code"
    ]
   },
   "outputs": [
    {
     "data": {
      "text/plain": [
       "{'LICENSE',\n",
       " 'doc/LICENSE.md',\n",
       " 'doc/License.rtf',\n",
       " 'project/VersionUtil.scala',\n",
       " 'src/compiler/scala/reflect/reify/phases/Calculate.scala',\n",
       " 'src/compiler/scala/tools/nsc/backend/jvm/BCodeHelpers.scala',\n",
       " 'src/compiler/scala/tools/nsc/backend/jvm/PostProcessor.scala',\n",
       " 'src/compiler/scala/tools/nsc/backend/jvm/analysis/BackendUtils.scala',\n",
       " 'src/compiler/scala/tools/nsc/profile/AsyncHelper.scala',\n",
       " 'src/compiler/scala/tools/nsc/profile/Profiler.scala',\n",
       " 'src/compiler/scala/tools/nsc/symtab/classfile/ClassfileParser.scala',\n",
       " 'src/compiler/scala/tools/nsc/typechecker/Contexts.scala',\n",
       " 'src/library/scala/Predef.scala',\n",
       " 'src/library/scala/concurrent/Lock.scala',\n",
       " 'src/library/scala/util/Properties.scala',\n",
       " 'src/reflect/scala/reflect/internal/pickling/ByteCodecs.scala',\n",
       " 'src/reflect/scala/reflect/internal/tpe/GlbLubs.scala',\n",
       " 'src/scaladoc/scala/tools/nsc/doc/html/page/Entity.scala',\n",
       " 'src/scalap/decoder.properties',\n",
       " 'test/files/neg/leibniz-liskov.check',\n",
       " 'test/files/neg/leibniz-liskov.scala',\n",
       " 'test/files/pos/leibniz-liskov.scala',\n",
       " 'test/files/pos/leibniz_liskov.scala',\n",
       " 'test/files/pos/parallel-classloader.scala',\n",
       " 'test/files/pos/t10568/Converter.java',\n",
       " 'test/files/pos/t10568/Impl.scala',\n",
       " 'test/files/pos/t10686.scala',\n",
       " 'test/files/pos/t5638/Among.java',\n",
       " 'test/files/pos/t5638/Usage.scala',\n",
       " 'test/files/pos/t9291.scala',\n",
       " 'test/files/run/t8348.check',\n",
       " 'test/files/run/t8348/TableColumn.java',\n",
       " 'test/files/run/t8348/TableColumnImpl.java',\n",
       " 'test/files/run/t8348/Test.scala'}"
      ]
     },
     "execution_count": 6,
     "metadata": {},
     "output_type": "execute_result"
    }
   ],
   "source": [
    "# Identify the last 10 pull requests\n",
    "last_10 = pulls.nlargest(10, 'date')\n",
    "\n",
    "# Join the two data sets\n",
    "joined_pr = last_10.merge(pull_files, on='pid')\n",
    "\n",
    "# Identify the unique files\n",
    "files = set(joined_pr['file'])\n",
    "\n",
    "# Print the results\n",
    "files"
   ]
  },
  {
   "cell_type": "markdown",
   "metadata": {
    "dc": {
     "key": "47"
    },
    "deletable": false,
    "editable": false,
    "run_control": {
     "frozen": true
    },
    "tags": [
     "context"
    ]
   },
   "source": [
    "## 7. Who made the most pull requests to a given file?\n",
    "<p>When contributing to a project, we might need some guidance. We might find ourselves needing some information regarding the codebase. It is important direct any questions to the right person. Contributors to open source projects generally have other day jobs, so their time is limited. It is important to address our questions to the right people. One way to identify the right target for our inquiries is by using their contribution history.</p>\n",
    "<p>We identified <code>src/compiler/scala/reflect/reify/phases/Calculate.scala</code> as being recently changed. We are interested in the top 3 developers who changed that file. Those developers are the ones most likely to have the best understanding of the code.</p>"
   ]
  },
  {
   "cell_type": "code",
   "execution_count": 7,
   "metadata": {
    "dc": {
     "key": "47"
    },
    "tags": [
     "sample_code"
    ]
   },
   "outputs": [
    {
     "data": {
      "text/html": [
       "<div>\n",
       "<style scoped>\n",
       "    .dataframe tbody tr th:only-of-type {\n",
       "        vertical-align: middle;\n",
       "    }\n",
       "\n",
       "    .dataframe tbody tr th {\n",
       "        vertical-align: top;\n",
       "    }\n",
       "\n",
       "    .dataframe thead th {\n",
       "        text-align: right;\n",
       "    }\n",
       "</style>\n",
       "<table border=\"1\" class=\"dataframe\">\n",
       "  <thead>\n",
       "    <tr style=\"text-align: right;\">\n",
       "      <th></th>\n",
       "      <th>pid</th>\n",
       "      <th>date</th>\n",
       "      <th>file</th>\n",
       "    </tr>\n",
       "    <tr>\n",
       "      <th>user</th>\n",
       "      <th></th>\n",
       "      <th></th>\n",
       "      <th></th>\n",
       "    </tr>\n",
       "  </thead>\n",
       "  <tbody>\n",
       "    <tr>\n",
       "      <th>xeno-by</th>\n",
       "      <td>11</td>\n",
       "      <td>11</td>\n",
       "      <td>11</td>\n",
       "    </tr>\n",
       "    <tr>\n",
       "      <th>retronym</th>\n",
       "      <td>5</td>\n",
       "      <td>5</td>\n",
       "      <td>5</td>\n",
       "    </tr>\n",
       "    <tr>\n",
       "      <th>soc</th>\n",
       "      <td>4</td>\n",
       "      <td>4</td>\n",
       "      <td>4</td>\n",
       "    </tr>\n",
       "  </tbody>\n",
       "</table>\n",
       "</div>"
      ],
      "text/plain": [
       "          pid  date  file\n",
       "user                     \n",
       "xeno-by    11    11    11\n",
       "retronym    5     5     5\n",
       "soc         4     4     4"
      ]
     },
     "execution_count": 7,
     "metadata": {},
     "output_type": "execute_result"
    }
   ],
   "source": [
    "# This is the file we are interested in:\n",
    "file = 'src/compiler/scala/reflect/reify/phases/Calculate.scala'\n",
    "\n",
    "# Identify the commits that changed the file\n",
    "file_pr = data[data['file'] == file] \n",
    "\n",
    "# Count the number of changes made by each developer\n",
    "author_counts = file_pr.groupby('user').count()\n",
    "\n",
    "# Print the top 3 developers\n",
    "author_counts.nlargest(3, 'pid')"
   ]
  },
  {
   "cell_type": "markdown",
   "metadata": {
    "dc": {
     "key": "54"
    },
    "deletable": false,
    "editable": false,
    "run_control": {
     "frozen": true
    },
    "tags": [
     "context"
    ]
   },
   "source": [
    "## 8. Who made the last ten pull requests on a given file?\n",
    "<p>Open source projects suffer from fluctuating membership. This makes the problem of finding the right person more challenging: the person has to be knowledgeable <em>and</em> still be involved in the project. A person that contributed a lot in the past might no longer be available (or willing) to help. To get a better understanding, we need to investigate the more recent history of that particular part of the system. </p>\n",
    "<p>Like in the previous task, we will look at the history of  <code>src/compiler/scala/reflect/reify/phases/Calculate.scala</code>.</p>"
   ]
  },
  {
   "cell_type": "code",
   "execution_count": 8,
   "metadata": {
    "dc": {
     "key": "54"
    },
    "tags": [
     "sample_code"
    ]
   },
   "outputs": [
    {
     "data": {
      "text/plain": [
       "{'bjornregnell', 'retronym', 'soc', 'starblood', 'xeno-by', 'zuvizudar'}"
      ]
     },
     "execution_count": 8,
     "metadata": {},
     "output_type": "execute_result"
    }
   ],
   "source": [
    "file = 'src/compiler/scala/reflect/reify/phases/Calculate.scala'\n",
    "\n",
    "# Select the pull requests that changed the target file\n",
    "file_pr = pull_files[pull_files['file'] == file]\n",
    "\n",
    "# Merge the obtained results with the pulls DataFrame\n",
    "joined_pr = file_pr.merge(pulls, on='pid')\n",
    "\n",
    "# Find the users of the last 10 most recent pull requests\n",
    "users_last_10 = set(joined_pr.nlargest(10, 'date')['user'])\n",
    "\n",
    "# Printing the results\n",
    "users_last_10"
   ]
  },
  {
   "cell_type": "markdown",
   "metadata": {
    "dc": {
     "key": "61"
    },
    "deletable": false,
    "editable": false,
    "run_control": {
     "frozen": true
    },
    "tags": [
     "context"
    ]
   },
   "source": [
    "## 9. The pull requests of two special developers\n",
    "<p>Now that we have identified two potential contacts in the projects, we need to find the person who was most involved in the project in recent times. That person is most likely to answer our questions. For each calendar year, we are interested in understanding the number of pull requests the authors submitted. This will give us a high-level image of their contribution trend to the project.</p>"
   ]
  },
  {
   "cell_type": "code",
   "execution_count": 9,
   "metadata": {
    "dc": {
     "key": "61"
    },
    "tags": [
     "sample_code"
    ]
   },
   "outputs": [
    {
     "data": {
      "text/plain": [
       "<matplotlib.axes._subplots.AxesSubplot at 0x26b9c6fb198>"
      ]
     },
     "execution_count": 9,
     "metadata": {},
     "output_type": "execute_result"
    },
    {
     "data": {
      "image/png": "[encoded data removed]",
      "text/plain": [
       "<Figure size 432x288 with 1 Axes>"
      ]
     },
     "metadata": {
      "needs_background": "light"
     },
     "output_type": "display_data"
    }
   ],
   "source": [
    "%matplotlib inline\n",
    "\n",
    "# The developers we are interested in\n",
    "authors = ['xeno-by', 'soc']\n",
    "\n",
    "# Get all the developers' pull requests\n",
    "by_author = pulls[pulls['user'].isin(authors)]\n",
    "\n",
    "# Count the number of pull requests submitted each year\n",
    "counts = by_author.groupby(['user', pulls['date'].dt.year]).agg({'pid': 'count'}).reset_index()\n",
    "\n",
    "# Convert the table to a wide format\n",
    "counts_wide = counts.pivot_table(index='date', columns='user', values='pid', fill_value=0)\n",
    "\n",
    "# Plot the results\n",
    "counts_wide.plot.bar()"
   ]
  },
  {
   "cell_type": "markdown",
   "metadata": {
    "dc": {
     "key": "68"
    },
    "deletable": false,
    "editable": false,
    "run_control": {
     "frozen": true
    },
    "tags": [
     "context"
    ]
   },
   "source": [
    "## 10. Visualizing the contributions of each developer\n",
    "<p>As mentioned before, it is important to make a distinction between the global expertise and contribution levels and the contribution levels at a more granular level (file, submodule, etc.) In our case, we want to see which of our two developers of interest have the most experience with the code in a given file. We will measure experience by the number of pull requests submitted that affect that file and how recent those pull requests were submitted.</p>"
   ]
  },
  {
   "cell_type": "code",
   "execution_count": 10,
   "metadata": {
    "dc": {
     "key": "68"
    },
    "tags": [
     "sample_code"
    ]
   },
   "outputs": [
    {
     "data": {
      "text/plain": [
       "<matplotlib.axes._subplots.AxesSubplot at 0x26b9c76cf28>"
      ]
     },
     "execution_count": 10,
     "metadata": {},
     "output_type": "execute_result"
    },
    {
     "data": {
      "image/png": "[encoded data removed]",
      "text/plain": [
       "<Figure size 432x288 with 1 Axes>"
      ]
     },
     "metadata": {
      "needs_background": "light"
     },
     "output_type": "display_data"
    }
   ],
   "source": [
    "authors = ['xeno-by', 'soc']\n",
    "file = 'src/compiler/scala/reflect/reify/phases/Calculate.scala'\n",
    "\n",
    "# Select the pull requests submitted by the authors, from the `data` DataFrame\n",
    "by_author = data[data['user'].isin(authors)]\n",
    "\n",
    "# Select the pull requests that affect the file\n",
    "by_file = by_author[by_author['file'] == file]\n",
    "\n",
    "# Group and count the number of PRs done by each user each year\n",
    "grouped = by_file.groupby(['user', by_file['date'].dt.year]).count()['pid'].reset_index()\n",
    "\n",
    "# Transform the data into a wide format\n",
    "by_file_wide = grouped.pivot_table(index = 'date',columns = 'user',values = 'pid', fill_value = 0)\n",
    "\n",
    "# Plot the results\n",
    "by_file_wide.plot(kind='bar')"
   ]
  },
  {
   "cell_type": "code",
   "execution_count": null,
   "metadata": {},
   "outputs": [],
   "source": []
  }
 ],
 "metadata": {
  "kernelspec": {
   "display_name": "Python 3",
   "language": "python",
   "name": "python3"
  },
  "language_info": {
   "codemirror_mode": {
    "name": "ipython",
    "version": 3
   },
   "file_extension": ".py",
   "mimetype": "text/x-python",
   "name": "python",
   "nbconvert_exporter": "python",
   "pygments_lexer": "ipython3",
   "version": "3.7.3"
  }
 },
 "nbformat": 4,
 "nbformat_minor": 2
}
